{
 "cells": [
  {
   "cell_type": "markdown",
   "id": "881ff648",
   "metadata": {},
   "source": [
    "# Dummy Project Perpustakaan "
   ]
  },
  {
   "cell_type": "markdown",
   "id": "07f47aab",
   "metadata": {},
   "source": [
    "## Perpustakaan 1"
   ]
  },
  {
   "cell_type": "code",
   "execution_count": 1,
   "id": "1d695a5d",
   "metadata": {},
   "outputs": [],
   "source": [
    "#inisialisasi\n",
    "Nama_buku_1='Fisika'\n",
    "Nama_buku_2='Kimia'\n",
    "Nama_buku_3='Biologi'\n",
    "durasi=3 #durasi peminjaman"
   ]
  },
  {
   "cell_type": "code",
   "execution_count": 2,
   "id": "494faf2d",
   "metadata": {},
   "outputs": [
    {
     "data": {
      "text/plain": [
       "(str, str, str, int)"
      ]
     },
     "execution_count": 2,
     "metadata": {},
     "output_type": "execute_result"
    }
   ],
   "source": [
    "type(Nama_buku_1),type(Nama_buku_2),type(Nama_buku_3),type(durasi) #mengecek tipe data"
   ]
  },
  {
   "cell_type": "code",
   "execution_count": 3,
   "id": "e9bc31d2",
   "metadata": {},
   "outputs": [],
   "source": [
    "#inisisaliasi ke dua\n",
    "kode_buku_1='PS_001'\n",
    "kode_buku_2='PS_002'\n",
    "kode_buku_3='PS_003'"
   ]
  },
  {
   "cell_type": "code",
   "execution_count": 4,
   "id": "37585d3f",
   "metadata": {},
   "outputs": [],
   "source": [
    "N_buku_1=N_buku_2=N_buku_3=10 #mendefinisikan jumlah buku ke dalam variabel"
   ]
  },
  {
   "cell_type": "code",
   "execution_count": 5,
   "id": "93c16120",
   "metadata": {},
   "outputs": [
    {
     "data": {
      "text/plain": [
       "int"
      ]
     },
     "execution_count": 5,
     "metadata": {},
     "output_type": "execute_result"
    }
   ],
   "source": [
    "type(N_buku_1) #mengecek tipe data variabel nilai buku"
   ]
  },
  {
   "cell_type": "markdown",
   "id": "147b779b",
   "metadata": {},
   "source": [
    "## Perpustakaan 2"
   ]
  },
  {
   "cell_type": "code",
   "execution_count": 6,
   "id": "a4a73a3f",
   "metadata": {},
   "outputs": [],
   "source": [
    "Nama_buku=[Nama_buku_1,Nama_buku_2,Nama_buku_3] #membuat list dari inisialiasi (nama buku)\n",
    "Kode_buku=[kode_buku_1,kode_buku_2,kode_buku_3] #membuat list dari inisialisasi (kode buku)\n",
    "N_buku   =[N_buku_1, N_buku_2, N_buku_3] #membuat list dari inisialisasi (kode buku)"
   ]
  },
  {
   "cell_type": "code",
   "execution_count": 7,
   "id": "c5b030fe",
   "metadata": {},
   "outputs": [
    {
     "data": {
      "text/plain": [
       "(list, list, list)"
      ]
     },
     "execution_count": 7,
     "metadata": {},
     "output_type": "execute_result"
    }
   ],
   "source": [
    "type(Nama_buku), type(Kode_buku), type(N_buku) #mengecek tipe list"
   ]
  },
  {
   "cell_type": "code",
   "execution_count": 8,
   "id": "8c7b99cb",
   "metadata": {},
   "outputs": [],
   "source": [
    "#membuat dictionary yang berisi key dan value, key disini adalah \"nama variabel\" dan value adalah variabel list yang berisi inisialiasi\n",
    "#value nama_buku sudah mengandung list variabel nama_buku yang berisi nama nama buku\n",
    "pustaka={\"Nama\":Nama_buku,\n",
    "        \"Kode\":Kode_buku,\n",
    "        \"Jumlah\":N_buku}"
   ]
  },
  {
   "cell_type": "code",
   "execution_count": 9,
   "id": "e738ac53",
   "metadata": {},
   "outputs": [
    {
     "data": {
      "text/plain": [
       "dict"
      ]
     },
     "execution_count": 9,
     "metadata": {},
     "output_type": "execute_result"
    }
   ],
   "source": [
    "type(pustaka) #mengecek tipe"
   ]
  },
  {
   "cell_type": "code",
   "execution_count": 10,
   "id": "c9ed2363",
   "metadata": {},
   "outputs": [
    {
     "data": {
      "text/plain": [
       "{'Nama': ['Fisika', 'Kimia', 'Biologi'],\n",
       " 'Kode': ['PS_001', 'PS_002', 'PS_003'],\n",
       " 'Jumlah': [10, 10, 10]}"
      ]
     },
     "execution_count": 10,
     "metadata": {},
     "output_type": "execute_result"
    }
   ],
   "source": [
    "pustaka #memanggil dictionary yang sudah dibuat"
   ]
  },
  {
   "cell_type": "markdown",
   "id": "9a712950",
   "metadata": {},
   "source": [
    "## Penambahan Buku"
   ]
  },
  {
   "cell_type": "code",
   "execution_count": 11,
   "id": "3665ae23",
   "metadata": {},
   "outputs": [],
   "source": [
    "#append = fungsi menambahkan \n",
    "pustaka['Nama'].append('Seni') #menambahkan 'seni' dalam list 'nama' yang ada di dalam dictionary 'pustaka'\n",
    "pustaka['Kode'].append('PS_004') #menambahkan 'PS_004' dalam list 'Kode' yang ada di dalam dictionary 'pustaka'\n",
    "pustaka['Jumlah'].append(15) #menambahkan '15' dalam list 'Jumlah' yang ada dalam dictionary 'pustaka'"
   ]
  },
  {
   "cell_type": "code",
   "execution_count": 12,
   "id": "a3ba6b7a",
   "metadata": {},
   "outputs": [
    {
     "data": {
      "text/plain": [
       "{'Nama': ['Fisika', 'Kimia', 'Biologi', 'Seni'],\n",
       " 'Kode': ['PS_001', 'PS_002', 'PS_003', 'PS_004'],\n",
       " 'Jumlah': [10, 10, 10, 15]}"
      ]
     },
     "execution_count": 12,
     "metadata": {},
     "output_type": "execute_result"
    }
   ],
   "source": [
    "pustaka #memangggil dictionary yang telah ditambahkan list baru"
   ]
  },
  {
   "cell_type": "markdown",
   "id": "d5218720",
   "metadata": {},
   "source": [
    "# Perpustakaan 3"
   ]
  },
  {
   "cell_type": "code",
   "execution_count": 13,
   "id": "c897768b",
   "metadata": {},
   "outputs": [
    {
     "name": "stdout",
     "output_type": "stream",
     "text": [
      "Buku yang tersedia:\n",
      "Nama Buku\t Kode Buku\t Jumlah\n",
      "Buku Fisika\t kode PS_001\t 10\n",
      "Buku Kimia\t kode PS_002\t 10\n",
      "Buku Biologi\t kode PS_003\t 10\n",
      "Buku Seni\t kode PS_004\t 15\n"
     ]
    }
   ],
   "source": [
    "#\\t untuk memberikan jarak satu tab\n",
    "print(\"Buku yang tersedia:\") \n",
    "print(\"Nama Buku\\t Kode Buku\\t Jumlah\")\n",
    "for i in range(len(pustaka['Nama'])): #untuk i dalam range (panjang list 'nama' dalam dict 'pustaka'), menggunakan nama karena isi data sama antar list\n",
    "    print(\"Buku {}\\t kode {}\\t {}\".format( #{} = akan diisi menggunakan fungsi .format\n",
    "    pustaka['Nama'][i], #menggunakan fungsi format untuk mengisi {} sesuai dengan urutan list 'nama' pada dict 'pustaka' pada urutan i\n",
    "    pustaka['Kode'][i], #menggunakan fungsi format untuk mengisi {} sesuai dengan urutan list 'kode' pada dict 'pustaka' pada urutan i\n",
    "    pustaka['Jumlah'][i])) #menggunakan fungsi format untuk mengisi {} sesuai dengan urutan list 'jumlah' pada dict 'pustaka' pada urutan i"
   ]
  },
  {
   "cell_type": "code",
   "execution_count": 14,
   "id": "c93519da",
   "metadata": {},
   "outputs": [
    {
     "name": "stdout",
     "output_type": "stream",
     "text": [
      "Form Peminjaman\n",
      "Nama Peminjam =ok\n",
      "Kode Buku= ok\n",
      "Tidak bisa dipinjam\n"
     ]
    }
   ],
   "source": [
    "print(\"Form Peminjaman\")\n",
    "varNama=str(input(\"Nama Peminjam =\")) #memasukan nama dan dijadikan varNama\n",
    "varKode=str(input(\"Kode Buku= \")) #memasukan kode buku dan dijadikan varKode\n",
    "for i in range(len(pustaka['Kode'])): #untuk i dalam jumlah variabel dalam list 'kode' yang ada di dict 'pustaka'. menggunakan 'kode' karena akan dijadikan acuan dalam membuat logika\n",
    "    if varKode==pustaka['Kode'][i] and pustaka['Jumlah'][i]>1: #jika varKode sama dengan kode ke 1/2/3/4 dan jumlahnya lebih dari 1 sesuai index\n",
    "        print(\"{} Bisa pinjam\".format(varNama))\n",
    "        print(\"Durasi waktu pinjam {} hari\".format(durasi))\n",
    "        pustaka['Jumlah'][i]-=1 #variabel'jumlah' pada dict 'pustaka' sesuai index i yang ada di baris if akan dikurangi 1 karena buku dipinjam\n",
    "        break\n",
    "    elif i==len(pustaka['Kode'])-1: #lainya jika i(dimulai dari 0 sampai jumlah len sehingga kondisi terpenuhi)\n",
    "        print(\"Tidak bisa dipinjam\")"
   ]
  },
  {
   "cell_type": "code",
   "execution_count": 15,
   "id": "205cae2d",
   "metadata": {},
   "outputs": [
    {
     "data": {
      "text/plain": [
       "{'Nama': ['Fisika', 'Kimia', 'Biologi', 'Seni'],\n",
       " 'Kode': ['PS_001', 'PS_002', 'PS_003', 'PS_004'],\n",
       " 'Jumlah': [10, 10, 10, 15]}"
      ]
     },
     "execution_count": 15,
     "metadata": {},
     "output_type": "execute_result"
    }
   ],
   "source": [
    "pustaka"
   ]
  },
  {
   "cell_type": "code",
   "execution_count": 16,
   "id": "f5a0c94c",
   "metadata": {},
   "outputs": [
    {
     "name": "stdout",
     "output_type": "stream",
     "text": [
      "Form Pengembalian\n",
      "Nama Peminjam\t=ok\n",
      "Kode Buku\t=ok\n",
      "Jumlah Hari\t=3\n",
      "Salah kode\n"
     ]
    }
   ],
   "source": [
    "print(\"Form Pengembalian\")\n",
    "varNama=str(input(\"Nama Peminjam\\t=\")) #memasukan nama dengan tab\n",
    "varKode=str(input(\"Kode Buku\\t=\")) #memasukkan kode dengan tab\n",
    "varHari=int(input(\"Jumlah Hari\\t=\")) #memasukkan hari dengan tab\n",
    "\n",
    "for i in range(len(pustaka['Kode'])): #untuk i dalam jumlah variabel yg ada di list 'kode' dict 'pustaka' (4)\n",
    "    if varKode==pustaka['Kode'][i]: #jika kode sama dengan yg ada dalam list 'kode' sesuai i(1-4) maka-\n",
    "        if varHari>=durasi: #-jika varHari lebih dari durasi maka-\n",
    "            denda=(varHari-durasi)*1000 #denda adalah varHari dikurangi durasi dikali 1000\n",
    "            print(\"Terima kasih, {}\\nDenda sebesar Rp.{}\".format(varNama,denda)) #/n untuk baris baru\n",
    "            pustaka['Jumlah'][i]+=1 #nilai i pada 'jumlah' di dict 'pustaka'  yg sesuai dg i 'kode' dan akan ditambah 1\n",
    "            break\n",
    "        else:\n",
    "            print(\"Terima kasih,{}\".format(varNama)) #apabila varHari = dengan durasi\n",
    "            pustaka['Jumlah'][i]+=1 #nilai i pada 'jumlah' di dict 'pustaka'  yg sesuai dg i 'kode' dan akan ditambah 1\n",
    "        break\n",
    "    elif i==len(pustaka['Kode'])-1: #lainya jika i(dimulai dari 0 sampai jumlah len sehingga kondisi terpenuhi)\n",
    "        print(\"Salah kode\")"
   ]
  },
  {
   "cell_type": "code",
   "execution_count": 17,
   "id": "7daf4845",
   "metadata": {},
   "outputs": [
    {
     "data": {
      "text/plain": [
       "{'Nama': ['Fisika', 'Kimia', 'Biologi', 'Seni'],\n",
       " 'Kode': ['PS_001', 'PS_002', 'PS_003', 'PS_004'],\n",
       " 'Jumlah': [10, 10, 10, 15]}"
      ]
     },
     "execution_count": 17,
     "metadata": {},
     "output_type": "execute_result"
    }
   ],
   "source": [
    "pustaka"
   ]
  },
  {
   "cell_type": "markdown",
   "id": "2bcc1299",
   "metadata": {},
   "source": [
    "# Perpustakaan 4"
   ]
  },
  {
   "cell_type": "code",
   "execution_count": 18,
   "id": "095b98b2",
   "metadata": {},
   "outputs": [],
   "source": [
    "def Data_terakhir(): #membuat fungsi dengan nama 'data_terakhir' sebagai ganti tidak mengetik ulang kode\n",
    "    print(\"Buku yang tersedia:\") #perintah 1 dalam fungsi 'Data_terakhir' mengeprint string\n",
    "    print(\"Nama Buku\\t Kode Buku\\t Jumlah\") #perintah 2 dalam fungsi 'Data_terakhir' mengeprint string\n",
    "    for i in range(len(pustaka['Nama'])): #untuk i dalam range (panjang list 'nama' dalam dict 'pustaka'), menggunakan nama karena isi data sama antar list\n",
    "        print(\"Buku {}\\t kode {}\\t {}\".format( #{} = akan diisi menggunakan fungsi .format\n",
    "        pustaka['Nama'][i], #menggunakan fungsi format untuk mengisi {} sesuai dengan urutan list 'nama' pada dict 'pustaka' pada urutan i\n",
    "        pustaka['Kode'][i], #menggunakan fungsi format untuk mengisi {} sesuai dengan urutan list 'kode' pada dict 'pustaka' pada urutan i\n",
    "        pustaka['Jumlah'][i])) #menggunakan fungsi format untuk mengisi {} sesuai dengan urutan list 'jumlah' pada dict 'pustaka' pada urutan i"
   ]
  },
  {
   "cell_type": "code",
   "execution_count": 19,
   "id": "b2272bb5",
   "metadata": {},
   "outputs": [
    {
     "name": "stdout",
     "output_type": "stream",
     "text": [
      "Buku yang tersedia:\n",
      "Nama Buku\t Kode Buku\t Jumlah\n",
      "Buku Fisika\t kode PS_001\t 10\n",
      "Buku Kimia\t kode PS_002\t 10\n",
      "Buku Biologi\t kode PS_003\t 10\n",
      "Buku Seni\t kode PS_004\t 15\n"
     ]
    }
   ],
   "source": [
    "Data_terakhir()"
   ]
  },
  {
   "cell_type": "code",
   "execution_count": 20,
   "id": "0b1b1dc5",
   "metadata": {},
   "outputs": [],
   "source": [
    "def peminjaman(pustaka=pustaka): #membuat fungsi peminjaman sebagai ganti from peminjaman\n",
    "    print(\"Form Peminjaman\") #mengprint string\n",
    "    varNama=str(input(\"Nama Peminjam =\")) #memasukan nama dan dijadikan varNama\n",
    "    varKode=str(input(\"Kode Buku= \")) #memasukan kode buku dan dijadikan varKode\n",
    "    \n",
    "    for i in range(len(pustaka['Kode'])): #untuk i dalam jumlah variabel dalam list 'kode' yang ada di dict 'pustaka'. menggunakan 'kode' karena akan dijadikan acuan dalam membuat logika\n",
    "        if varKode==pustaka['Kode'][i] and pustaka['Jumlah'][i]>1: #jika varKode sama dengan kode ke 1/2/3/4 dan jumlahnya lebih dari 1 sesuai index\n",
    "            print(\"{} Bisa pinjam\".format(varNama))\n",
    "            print(\"Durasi waktu pinjam {} hari\".format(durasi))\n",
    "            pustaka['Jumlah'][i]-=1 #variabel'jumlah' pada dict 'pustaka' sesuai index i yang ada di baris if akan dikurangi 1 karena buku dipinjam\n",
    "            break\n",
    "        elif i==len(pustaka['Kode'])-1: #lainya jika i(dimulai dari 0 sampai jumlah len sehingga kondisi terpenuhi)\n",
    "            print(\"Tidak bisa dipinjam\")"
   ]
  },
  {
   "cell_type": "code",
   "execution_count": 21,
   "id": "6a11c92b",
   "metadata": {},
   "outputs": [
    {
     "name": "stdout",
     "output_type": "stream",
     "text": [
      "Form Peminjaman\n",
      "Nama Peminjam =ok\n",
      "Kode Buku= ok\n",
      "Tidak bisa dipinjam\n"
     ]
    }
   ],
   "source": [
    "peminjaman()"
   ]
  },
  {
   "cell_type": "code",
   "execution_count": 22,
   "id": "d144bf15",
   "metadata": {},
   "outputs": [
    {
     "name": "stdout",
     "output_type": "stream",
     "text": [
      "Buku yang tersedia:\n",
      "Nama Buku\t Kode Buku\t Jumlah\n",
      "Buku Fisika\t kode PS_001\t 10\n",
      "Buku Kimia\t kode PS_002\t 10\n",
      "Buku Biologi\t kode PS_003\t 10\n",
      "Buku Seni\t kode PS_004\t 15\n"
     ]
    }
   ],
   "source": [
    "Data_terakhir()"
   ]
  },
  {
   "cell_type": "code",
   "execution_count": 23,
   "id": "f5ab8eb4",
   "metadata": {},
   "outputs": [],
   "source": [
    "def pengembalian(pustaka=pustaka): #membuat fungsi pengembaklian sabagai ganti form pengembalian\n",
    "    print(\"Form Pengembalian\")\n",
    "    varNama=str(input(\"Nama Peminjam\\t=\")) #memasukan nama dengan tab\n",
    "    varKode=str(input(\"Kode Buku\\t=\")) #memasukkan kode dengan tab\n",
    "    varHari=int(input(\"Jumlah Hari\\t=\")) #memasukkan hari dengan tab\n",
    "\n",
    "    for i in range(len(pustaka['Kode'])): #untuk i dalam jumlah variabel yg ada di list 'kode' dict 'pustaka' (4)\n",
    "        if varKode==pustaka['Kode'][i]: #jika kode sama dengan yg ada dalam list 'kode' sesuai i(1-4) maka-\n",
    "            if varHari>=durasi: #-jika varHari lebih dari durasi maka-\n",
    "                denda=(varHari-durasi)*1000 #denda adalah varHari dikurangi durasi dikali 1000\n",
    "                print(\"Terima kasih, {}\\nDenda sebesar Rp.{}\".format(varNama,denda)) #/n untuk baris baru\n",
    "                pustaka['Jumlah'][i]+=1 #nilai i pada 'jumlah' di dict 'pustaka'  yg sesuai dg i 'kode' dan akan ditambah 1\n",
    "                break\n",
    "            else:\n",
    "                print(\"Terima kasih,{}\".format(varNama)) #apabila varHari = dengan durasi\n",
    "                pustaka['Jumlah'][i]+=1 #nilai i pada 'jumlah' di dict 'pustaka'  yg sesuai dg i 'kode' dan akan ditambah 1\n",
    "            break\n",
    "        elif i==len(pustaka['Kode'])-1: #lainya jika i(dimulai dari 0 sampai jumlah len sehingga kondisi terpenuhi)\n",
    "            print(\"Salah kode\")"
   ]
  },
  {
   "cell_type": "code",
   "execution_count": 24,
   "id": "0810aefa",
   "metadata": {},
   "outputs": [
    {
     "name": "stdout",
     "output_type": "stream",
     "text": [
      "Form Pengembalian\n",
      "Nama Peminjam\t=ok\n",
      "Kode Buku\t=ok\n",
      "Jumlah Hari\t=3\n",
      "Salah kode\n"
     ]
    }
   ],
   "source": [
    "pengembalian()"
   ]
  },
  {
   "cell_type": "code",
   "execution_count": 25,
   "id": "e7b4bb49",
   "metadata": {},
   "outputs": [
    {
     "name": "stdout",
     "output_type": "stream",
     "text": [
      "Buku yang tersedia:\n",
      "Nama Buku\t Kode Buku\t Jumlah\n",
      "Buku Fisika\t kode PS_001\t 10\n",
      "Buku Kimia\t kode PS_002\t 10\n",
      "Buku Biologi\t kode PS_003\t 10\n",
      "Buku Seni\t kode PS_004\t 15\n"
     ]
    }
   ],
   "source": [
    "Data_terakhir()"
   ]
  },
  {
   "cell_type": "code",
   "execution_count": 26,
   "id": "87335be9",
   "metadata": {},
   "outputs": [],
   "source": [
    "def tambah_buku(varBuku,varKode,varJumlah): #membuat fungsi tambah_buku dengan inputan varbuku,varkode, dan varjumlah\n",
    "    #jika buku yang sudah ada di dalam dict pustaka\n",
    "    for i in range(len(pustaka['Kode'])): #untuk i dalam range panjang list kode\n",
    "        if varKode==pustaka['Kode'][i]: #jika inputan varkode ada yg sama dengan list kode sesuai yang diurutkan dengan iterasi\n",
    "            pustaka['Jumlah'][i]+=varJumlah # list jumlah akan ditambah dg inputan varjumlah dan sesuai dengan iterasi kode tadi yg sesuai\n",
    "            print(\"Menambah Buku {} dengan Jumlah {}\".format(pustaka[\"Nama\"][i], #mengeprint string dengan nama sesuai dengan interasi pada jumlah dan kode\n",
    "                                                    pustaka['Jumlah'][i])) #mengeprint string dengan jumlah sesuai dengan interasi pada jumlah dan kode\n",
    "            break #iterasi berhenti juka kondisi sudah terpenuhi\n",
    "    #jika buku baru yang tidak ada di dict pustaka\n",
    "    else: #jika kondisi tidak ternuhi setelah iterasi habis\n",
    "            pustaka['Nama'].append(varBuku) #list nama ditambah varbuku\n",
    "            pustaka['Kode'].append(varKode) #list kode ditambah varkode\n",
    "            pustaka['Jumlah'].append(varJumlah) #list jumlah ditambah varjumlah\n",
    "            \n",
    "            print(\"Menambah Buku Baru {} dengan Jumlah {}\".format(pustaka[\"Nama\"][-1], #print nama buku dengan urutan list terakhir\n",
    "                                                    pustaka['Jumlah'][-1])) #print jumlah buku dengan uhrutan list terakhir"
   ]
  },
  {
   "cell_type": "code",
   "execution_count": 27,
   "id": "b1b0702b",
   "metadata": {},
   "outputs": [
    {
     "name": "stdout",
     "output_type": "stream",
     "text": [
      "Menambah Buku Seni dengan Jumlah 22\n"
     ]
    }
   ],
   "source": [
    "Judul=\"Seni\"\n",
    "Kode=\"PS_004\"\n",
    "Jumlah=7\n",
    "\n",
    "tambah_buku(Judul,Kode,Jumlah)"
   ]
  },
  {
   "cell_type": "code",
   "execution_count": 28,
   "id": "04b98973",
   "metadata": {},
   "outputs": [
    {
     "name": "stdout",
     "output_type": "stream",
     "text": [
      "Buku yang tersedia:\n",
      "Nama Buku\t Kode Buku\t Jumlah\n",
      "Buku Fisika\t kode PS_001\t 10\n",
      "Buku Kimia\t kode PS_002\t 10\n",
      "Buku Biologi\t kode PS_003\t 10\n",
      "Buku Seni\t kode PS_004\t 22\n"
     ]
    }
   ],
   "source": [
    "Data_terakhir()"
   ]
  },
  {
   "cell_type": "code",
   "execution_count": 29,
   "id": "bc85d6e0",
   "metadata": {},
   "outputs": [
    {
     "name": "stdout",
     "output_type": "stream",
     "text": [
      "Menambah Buku Baru Sastra dengan Jumlah 5\n"
     ]
    }
   ],
   "source": [
    "Judul=\"Sastra\"\n",
    "Kode=\"PS_005\"\n",
    "Jumlah=5\n",
    "\n",
    "tambah_buku(Judul,Kode,Jumlah)"
   ]
  },
  {
   "cell_type": "code",
   "execution_count": 30,
   "id": "b06fc120",
   "metadata": {},
   "outputs": [
    {
     "name": "stdout",
     "output_type": "stream",
     "text": [
      "Buku yang tersedia:\n",
      "Nama Buku\t Kode Buku\t Jumlah\n",
      "Buku Fisika\t kode PS_001\t 10\n",
      "Buku Kimia\t kode PS_002\t 10\n",
      "Buku Biologi\t kode PS_003\t 10\n",
      "Buku Seni\t kode PS_004\t 22\n",
      "Buku Sastra\t kode PS_005\t 5\n"
     ]
    }
   ],
   "source": [
    "Data_terakhir()"
   ]
  },
  {
   "cell_type": "markdown",
   "id": "6dc2eaae",
   "metadata": {},
   "source": [
    "## Perpustakaan 5"
   ]
  },
  {
   "cell_type": "code",
   "execution_count": 31,
   "id": "1abefe8d",
   "metadata": {},
   "outputs": [],
   "source": [
    "import pandas as pd"
   ]
  },
  {
   "cell_type": "code",
   "execution_count": 32,
   "id": "69c16ab0",
   "metadata": {},
   "outputs": [
    {
     "data": {
      "text/plain": [
       "{'Nama': ['Fisika', 'Kimia', 'Biologi', 'Seni', 'Sastra'],\n",
       " 'Kode': ['PS_001', 'PS_002', 'PS_003', 'PS_004', 'PS_005'],\n",
       " 'Jumlah': [10, 10, 10, 22, 5]}"
      ]
     },
     "execution_count": 32,
     "metadata": {},
     "output_type": "execute_result"
    }
   ],
   "source": [
    "pustaka"
   ]
  },
  {
   "cell_type": "code",
   "execution_count": 33,
   "id": "adef902a",
   "metadata": {},
   "outputs": [],
   "source": [
    "df=pd.DataFrame(pustaka)"
   ]
  },
  {
   "cell_type": "code",
   "execution_count": 34,
   "id": "5d99b9d3",
   "metadata": {},
   "outputs": [
    {
     "data": {
      "text/html": [
       "<div>\n",
       "<style scoped>\n",
       "    .dataframe tbody tr th:only-of-type {\n",
       "        vertical-align: middle;\n",
       "    }\n",
       "\n",
       "    .dataframe tbody tr th {\n",
       "        vertical-align: top;\n",
       "    }\n",
       "\n",
       "    .dataframe thead th {\n",
       "        text-align: right;\n",
       "    }\n",
       "</style>\n",
       "<table border=\"1\" class=\"dataframe\">\n",
       "  <thead>\n",
       "    <tr style=\"text-align: right;\">\n",
       "      <th></th>\n",
       "      <th>Nama</th>\n",
       "      <th>Kode</th>\n",
       "      <th>Jumlah</th>\n",
       "    </tr>\n",
       "  </thead>\n",
       "  <tbody>\n",
       "    <tr>\n",
       "      <th>0</th>\n",
       "      <td>Fisika</td>\n",
       "      <td>PS_001</td>\n",
       "      <td>10</td>\n",
       "    </tr>\n",
       "    <tr>\n",
       "      <th>1</th>\n",
       "      <td>Kimia</td>\n",
       "      <td>PS_002</td>\n",
       "      <td>10</td>\n",
       "    </tr>\n",
       "    <tr>\n",
       "      <th>2</th>\n",
       "      <td>Biologi</td>\n",
       "      <td>PS_003</td>\n",
       "      <td>10</td>\n",
       "    </tr>\n",
       "    <tr>\n",
       "      <th>3</th>\n",
       "      <td>Seni</td>\n",
       "      <td>PS_004</td>\n",
       "      <td>22</td>\n",
       "    </tr>\n",
       "    <tr>\n",
       "      <th>4</th>\n",
       "      <td>Sastra</td>\n",
       "      <td>PS_005</td>\n",
       "      <td>5</td>\n",
       "    </tr>\n",
       "  </tbody>\n",
       "</table>\n",
       "</div>"
      ],
      "text/plain": [
       "      Nama    Kode  Jumlah\n",
       "0   Fisika  PS_001      10\n",
       "1    Kimia  PS_002      10\n",
       "2  Biologi  PS_003      10\n",
       "3     Seni  PS_004      22\n",
       "4   Sastra  PS_005       5"
      ]
     },
     "execution_count": 34,
     "metadata": {},
     "output_type": "execute_result"
    }
   ],
   "source": [
    "df"
   ]
  },
  {
   "cell_type": "code",
   "execution_count": 35,
   "id": "a8a0c063",
   "metadata": {},
   "outputs": [
    {
     "data": {
      "text/plain": [
       "5"
      ]
     },
     "execution_count": 35,
     "metadata": {},
     "output_type": "execute_result"
    }
   ],
   "source": [
    "len(df)"
   ]
  },
  {
   "cell_type": "code",
   "execution_count": 36,
   "id": "74ce3c6f",
   "metadata": {},
   "outputs": [],
   "source": [
    "def peminjaman_df(durasi=durasi):\n",
    "    print(\"Form Peminjaman\") #mengprint string\n",
    "    varNama=str(input(\"Nama Peminjam =\")) #memasukan nama dan dijadikan varNama\n",
    "    varKode=str(input(\"Kode Buku= \")) #memasukan kode buku dan dijadikan varKode\n",
    "    for i in range(len(df)): #untuk i dalam jumlah variabel dalam tabel df\n",
    "        if varKode==df['Kode'].iloc[i] and df['Jumlah'].iloc[i]>1: #jika varKode sama dengan tabel df kode ke 1/2/3/4 dan jumlahnya lebih dari 1 sesuai index\n",
    "            print(\"{} Bisa pinjam\".format(varNama))\n",
    "            print(\"Durasi waktu pinjam {} hari\".format(durasi))\n",
    "            df.at[i, 'Jumlah']-=1 #kolom jumlah pada tabel df sesuai index i yang ada di baris if akan dikurangi 1 karena buku dipinjam\n",
    "            return df\n",
    "            break #iterasi if berhenti jika kondisi if terpenugi\n",
    "        elif i==len(df)-1: #lainya jika i(dimulai dari 0 sampai jumlah len tabel df sehingga kondisi terpenuhi)\n",
    "            print(\"Tidak bisa dipinjam\")\n",
    "            return df"
   ]
  },
  {
   "cell_type": "code",
   "execution_count": 37,
   "id": "e782af3a",
   "metadata": {},
   "outputs": [
    {
     "name": "stdout",
     "output_type": "stream",
     "text": [
      "Form Peminjaman\n",
      "Nama Peminjam =ok\n",
      "Kode Buku= ok\n",
      "Tidak bisa dipinjam\n"
     ]
    }
   ],
   "source": [
    "df=peminjaman_df()"
   ]
  },
  {
   "cell_type": "code",
   "execution_count": 38,
   "id": "c3de7989",
   "metadata": {},
   "outputs": [
    {
     "data": {
      "text/html": [
       "<div>\n",
       "<style scoped>\n",
       "    .dataframe tbody tr th:only-of-type {\n",
       "        vertical-align: middle;\n",
       "    }\n",
       "\n",
       "    .dataframe tbody tr th {\n",
       "        vertical-align: top;\n",
       "    }\n",
       "\n",
       "    .dataframe thead th {\n",
       "        text-align: right;\n",
       "    }\n",
       "</style>\n",
       "<table border=\"1\" class=\"dataframe\">\n",
       "  <thead>\n",
       "    <tr style=\"text-align: right;\">\n",
       "      <th></th>\n",
       "      <th>Nama</th>\n",
       "      <th>Kode</th>\n",
       "      <th>Jumlah</th>\n",
       "    </tr>\n",
       "  </thead>\n",
       "  <tbody>\n",
       "    <tr>\n",
       "      <th>0</th>\n",
       "      <td>Fisika</td>\n",
       "      <td>PS_001</td>\n",
       "      <td>10</td>\n",
       "    </tr>\n",
       "    <tr>\n",
       "      <th>1</th>\n",
       "      <td>Kimia</td>\n",
       "      <td>PS_002</td>\n",
       "      <td>10</td>\n",
       "    </tr>\n",
       "    <tr>\n",
       "      <th>2</th>\n",
       "      <td>Biologi</td>\n",
       "      <td>PS_003</td>\n",
       "      <td>10</td>\n",
       "    </tr>\n",
       "    <tr>\n",
       "      <th>3</th>\n",
       "      <td>Seni</td>\n",
       "      <td>PS_004</td>\n",
       "      <td>22</td>\n",
       "    </tr>\n",
       "    <tr>\n",
       "      <th>4</th>\n",
       "      <td>Sastra</td>\n",
       "      <td>PS_005</td>\n",
       "      <td>5</td>\n",
       "    </tr>\n",
       "  </tbody>\n",
       "</table>\n",
       "</div>"
      ],
      "text/plain": [
       "      Nama    Kode  Jumlah\n",
       "0   Fisika  PS_001      10\n",
       "1    Kimia  PS_002      10\n",
       "2  Biologi  PS_003      10\n",
       "3     Seni  PS_004      22\n",
       "4   Sastra  PS_005       5"
      ]
     },
     "execution_count": 38,
     "metadata": {},
     "output_type": "execute_result"
    }
   ],
   "source": [
    "df"
   ]
  },
  {
   "cell_type": "code",
   "execution_count": 39,
   "id": "00c977cd",
   "metadata": {},
   "outputs": [],
   "source": [
    "def pengembalian_df(durasi=durasi):\n",
    "    print(\"Form Pengembalian\")\n",
    "    varNama=str(input(\"Nama Peminjam\\t=\")) #memasukan nama dengan tab\n",
    "    varKode=str(input(\"Kode Buku\\t=\")) #memasukkan kode dengan tab\n",
    "    varHari=int(input(\"Jumlah Hari\\t=\")) #memasukkan hari dengan tab\n",
    "\n",
    "    for i in range(len(df)): #untuk i dalam jumlah baris yg ada di tabel df (4)\n",
    "        if varKode==df['Kode'].iloc[i]: #jika kode sama dengan yg ada dalam kolom kode tabel df sesuai i(1-4) maka-\n",
    "            if varHari>=durasi: #-jika varHari lebih dari durasi maka-\n",
    "                denda=(varHari-durasi)*1000 #denda adalah varHari dikurangi durasi dikali 1000\n",
    "                print(\"Terima kasih, {}\\nDenda sebesar Rp.{}\".format(varNama,denda)) #/n untuk baris baru\n",
    "                df.at[i,'Jumlah']+=1 #nilai i pada kolom jumlah tabel df  yg sesuai dg i 'kode' dan akan ditambah 1\n",
    "                return df\n",
    "                break\n",
    "            else:\n",
    "                print(\"Terima kasih, {}\".format(varNama)) #apabila varHari = dengan durasi\n",
    "                df.at[i, 'Jumlah']+=1 #nilai i pada kolom jumlah' di dict tabel df yg sesuai dg i 'kode' dan akan ditambah 1\n",
    "                return df\n",
    "                break\n",
    "        elif i==len(df)-1: #lainya jika i(dimulai dari 0 sampai jumlah len tabel df minus 1 sehingga kondisi terpenuhi)\n",
    "            print(\"Salah kode\")\n",
    "            return df"
   ]
  },
  {
   "cell_type": "code",
   "execution_count": 40,
   "id": "bf38af15",
   "metadata": {
    "scrolled": true
   },
   "outputs": [
    {
     "name": "stdout",
     "output_type": "stream",
     "text": [
      "Form Pengembalian\n",
      "Nama Peminjam\t=ok\n",
      "Kode Buku\t=ok\n",
      "Jumlah Hari\t=3\n",
      "Salah kode\n"
     ]
    }
   ],
   "source": [
    "df=pengembalian_df()"
   ]
  },
  {
   "cell_type": "code",
   "execution_count": 41,
   "id": "c7845664",
   "metadata": {},
   "outputs": [
    {
     "data": {
      "text/html": [
       "<div>\n",
       "<style scoped>\n",
       "    .dataframe tbody tr th:only-of-type {\n",
       "        vertical-align: middle;\n",
       "    }\n",
       "\n",
       "    .dataframe tbody tr th {\n",
       "        vertical-align: top;\n",
       "    }\n",
       "\n",
       "    .dataframe thead th {\n",
       "        text-align: right;\n",
       "    }\n",
       "</style>\n",
       "<table border=\"1\" class=\"dataframe\">\n",
       "  <thead>\n",
       "    <tr style=\"text-align: right;\">\n",
       "      <th></th>\n",
       "      <th>Nama</th>\n",
       "      <th>Kode</th>\n",
       "      <th>Jumlah</th>\n",
       "    </tr>\n",
       "  </thead>\n",
       "  <tbody>\n",
       "    <tr>\n",
       "      <th>0</th>\n",
       "      <td>Fisika</td>\n",
       "      <td>PS_001</td>\n",
       "      <td>10</td>\n",
       "    </tr>\n",
       "    <tr>\n",
       "      <th>1</th>\n",
       "      <td>Kimia</td>\n",
       "      <td>PS_002</td>\n",
       "      <td>10</td>\n",
       "    </tr>\n",
       "    <tr>\n",
       "      <th>2</th>\n",
       "      <td>Biologi</td>\n",
       "      <td>PS_003</td>\n",
       "      <td>10</td>\n",
       "    </tr>\n",
       "    <tr>\n",
       "      <th>3</th>\n",
       "      <td>Seni</td>\n",
       "      <td>PS_004</td>\n",
       "      <td>22</td>\n",
       "    </tr>\n",
       "    <tr>\n",
       "      <th>4</th>\n",
       "      <td>Sastra</td>\n",
       "      <td>PS_005</td>\n",
       "      <td>5</td>\n",
       "    </tr>\n",
       "  </tbody>\n",
       "</table>\n",
       "</div>"
      ],
      "text/plain": [
       "      Nama    Kode  Jumlah\n",
       "0   Fisika  PS_001      10\n",
       "1    Kimia  PS_002      10\n",
       "2  Biologi  PS_003      10\n",
       "3     Seni  PS_004      22\n",
       "4   Sastra  PS_005       5"
      ]
     },
     "execution_count": 41,
     "metadata": {},
     "output_type": "execute_result"
    }
   ],
   "source": [
    "df"
   ]
  },
  {
   "cell_type": "code",
   "execution_count": 42,
   "id": "d9dca362",
   "metadata": {},
   "outputs": [],
   "source": [
    "def tambah_buku_df(varBuku,varKode,varJumlah,df=df): #membuat fungsi tambah_buku dengan inputan varbuku,varkode, dan varjumlah\n",
    "    #jika buku yang sudah ada di dalam dict pustaka\n",
    "    for i in range(len(df)): #untuk i dalam range banyak baris tabel df\n",
    "        if varKode==df['Kode'].iloc[i]: #jika inputan varkode sama dengan dari 1-4 baris kode tabel df\n",
    "            df.at[i,'Jumlah']+=varJumlah #kolom jumlah sesuai i kode pada tabel df akan ditambah dengan inputan varjumlah\n",
    "            return df\n",
    "            print(\"Buku {} dengan Jumlah {}\".format(df[\"Nama\"].iloc[i], #print kolom nama sesuai i\n",
    "                                                    df['Jumlah'].iloc[i])) #print kolom jumlah sesuai i\n",
    "            break #berhenti iterasi if jika kondisi terpenuhi\n",
    "     #untuk buku baru   \n",
    "    else:\n",
    "        #membuat variabel baru bernama var1\n",
    "        var1={\"Nama\":varBuku,\n",
    "              \"Kode\":varKode,\n",
    "              \"Jumlah\":varJumlah}\n",
    "        df=df.append(var1, ignore_index=True) #menambahkan var1 dalam tabel df dengan menghiraukan index jadi akan ditaruh paling bawah\n",
    "        print(\"Buku Baru {} dengan Jumlah {}\".format(df[\"Nama\"].iloc[-1], #print kolom nama yang terakhir\n",
    "                                                     df['Jumlah'].iloc[-1])) #print kolom jumlah sesuai yang terakhir\n",
    "    return df"
   ]
  },
  {
   "cell_type": "code",
   "execution_count": 43,
   "id": "9bdf59fb",
   "metadata": {},
   "outputs": [
    {
     "name": "stdout",
     "output_type": "stream",
     "text": [
      "Buku Baru Astronomi dengan Jumlah 15\n"
     ]
    },
    {
     "name": "stderr",
     "output_type": "stream",
     "text": [
      "C:\\Users\\HP\\AppData\\Local\\Temp/ipykernel_2176/3266740200.py:16: FutureWarning: The frame.append method is deprecated and will be removed from pandas in a future version. Use pandas.concat instead.\n",
      "  df=df.append(var1, ignore_index=True) #menambahkan var1 dalam tabel df dengan menghiraukan index jadi akan ditaruh paling bawah\n"
     ]
    }
   ],
   "source": [
    "judul='Astronomi'\n",
    "kode='PS_006'\n",
    "jumlah='15'\n",
    "\n",
    "df=tambah_buku_df(judul,kode,jumlah)"
   ]
  },
  {
   "cell_type": "code",
   "execution_count": 44,
   "id": "f37913c0",
   "metadata": {},
   "outputs": [
    {
     "data": {
      "text/html": [
       "<div>\n",
       "<style scoped>\n",
       "    .dataframe tbody tr th:only-of-type {\n",
       "        vertical-align: middle;\n",
       "    }\n",
       "\n",
       "    .dataframe tbody tr th {\n",
       "        vertical-align: top;\n",
       "    }\n",
       "\n",
       "    .dataframe thead th {\n",
       "        text-align: right;\n",
       "    }\n",
       "</style>\n",
       "<table border=\"1\" class=\"dataframe\">\n",
       "  <thead>\n",
       "    <tr style=\"text-align: right;\">\n",
       "      <th></th>\n",
       "      <th>Nama</th>\n",
       "      <th>Kode</th>\n",
       "      <th>Jumlah</th>\n",
       "    </tr>\n",
       "  </thead>\n",
       "  <tbody>\n",
       "    <tr>\n",
       "      <th>0</th>\n",
       "      <td>Fisika</td>\n",
       "      <td>PS_001</td>\n",
       "      <td>10</td>\n",
       "    </tr>\n",
       "    <tr>\n",
       "      <th>1</th>\n",
       "      <td>Kimia</td>\n",
       "      <td>PS_002</td>\n",
       "      <td>10</td>\n",
       "    </tr>\n",
       "    <tr>\n",
       "      <th>2</th>\n",
       "      <td>Biologi</td>\n",
       "      <td>PS_003</td>\n",
       "      <td>10</td>\n",
       "    </tr>\n",
       "    <tr>\n",
       "      <th>3</th>\n",
       "      <td>Seni</td>\n",
       "      <td>PS_004</td>\n",
       "      <td>22</td>\n",
       "    </tr>\n",
       "    <tr>\n",
       "      <th>4</th>\n",
       "      <td>Sastra</td>\n",
       "      <td>PS_005</td>\n",
       "      <td>5</td>\n",
       "    </tr>\n",
       "    <tr>\n",
       "      <th>5</th>\n",
       "      <td>Astronomi</td>\n",
       "      <td>PS_006</td>\n",
       "      <td>15</td>\n",
       "    </tr>\n",
       "  </tbody>\n",
       "</table>\n",
       "</div>"
      ],
      "text/plain": [
       "        Nama    Kode Jumlah\n",
       "0     Fisika  PS_001     10\n",
       "1      Kimia  PS_002     10\n",
       "2    Biologi  PS_003     10\n",
       "3       Seni  PS_004     22\n",
       "4     Sastra  PS_005      5\n",
       "5  Astronomi  PS_006     15"
      ]
     },
     "execution_count": 44,
     "metadata": {},
     "output_type": "execute_result"
    }
   ],
   "source": [
    "df"
   ]
  },
  {
   "cell_type": "markdown",
   "id": "892629cd",
   "metadata": {},
   "source": [
    "## Perpustakaan 6"
   ]
  },
  {
   "cell_type": "code",
   "execution_count": 45,
   "id": "cfceebfe",
   "metadata": {},
   "outputs": [],
   "source": [
    "import numpy as np\n",
    "import matplotlib.pyplot as plt"
   ]
  },
  {
   "cell_type": "code",
   "execution_count": 46,
   "id": "246c2e9e",
   "metadata": {},
   "outputs": [],
   "source": [
    "df['Pinjam']=np.random.randint(1,7)"
   ]
  },
  {
   "cell_type": "code",
   "execution_count": 47,
   "id": "37726a8d",
   "metadata": {},
   "outputs": [
    {
     "data": {
      "text/html": [
       "<div>\n",
       "<style scoped>\n",
       "    .dataframe tbody tr th:only-of-type {\n",
       "        vertical-align: middle;\n",
       "    }\n",
       "\n",
       "    .dataframe tbody tr th {\n",
       "        vertical-align: top;\n",
       "    }\n",
       "\n",
       "    .dataframe thead th {\n",
       "        text-align: right;\n",
       "    }\n",
       "</style>\n",
       "<table border=\"1\" class=\"dataframe\">\n",
       "  <thead>\n",
       "    <tr style=\"text-align: right;\">\n",
       "      <th></th>\n",
       "      <th>Nama</th>\n",
       "      <th>Kode</th>\n",
       "      <th>Jumlah</th>\n",
       "      <th>Pinjam</th>\n",
       "    </tr>\n",
       "  </thead>\n",
       "  <tbody>\n",
       "    <tr>\n",
       "      <th>0</th>\n",
       "      <td>Fisika</td>\n",
       "      <td>PS_001</td>\n",
       "      <td>10</td>\n",
       "      <td>3</td>\n",
       "    </tr>\n",
       "    <tr>\n",
       "      <th>1</th>\n",
       "      <td>Kimia</td>\n",
       "      <td>PS_002</td>\n",
       "      <td>10</td>\n",
       "      <td>3</td>\n",
       "    </tr>\n",
       "    <tr>\n",
       "      <th>2</th>\n",
       "      <td>Biologi</td>\n",
       "      <td>PS_003</td>\n",
       "      <td>10</td>\n",
       "      <td>3</td>\n",
       "    </tr>\n",
       "    <tr>\n",
       "      <th>3</th>\n",
       "      <td>Seni</td>\n",
       "      <td>PS_004</td>\n",
       "      <td>22</td>\n",
       "      <td>3</td>\n",
       "    </tr>\n",
       "    <tr>\n",
       "      <th>4</th>\n",
       "      <td>Sastra</td>\n",
       "      <td>PS_005</td>\n",
       "      <td>5</td>\n",
       "      <td>3</td>\n",
       "    </tr>\n",
       "    <tr>\n",
       "      <th>5</th>\n",
       "      <td>Astronomi</td>\n",
       "      <td>PS_006</td>\n",
       "      <td>15</td>\n",
       "      <td>3</td>\n",
       "    </tr>\n",
       "  </tbody>\n",
       "</table>\n",
       "</div>"
      ],
      "text/plain": [
       "        Nama    Kode Jumlah  Pinjam\n",
       "0     Fisika  PS_001     10       3\n",
       "1      Kimia  PS_002     10       3\n",
       "2    Biologi  PS_003     10       3\n",
       "3       Seni  PS_004     22       3\n",
       "4     Sastra  PS_005      5       3\n",
       "5  Astronomi  PS_006     15       3"
      ]
     },
     "execution_count": 47,
     "metadata": {},
     "output_type": "execute_result"
    }
   ],
   "source": [
    "df"
   ]
  },
  {
   "cell_type": "code",
   "execution_count": 48,
   "id": "20512152",
   "metadata": {},
   "outputs": [],
   "source": [
    "df['Pinjam']=np.random.randint(1,7,len(df))"
   ]
  },
  {
   "cell_type": "code",
   "execution_count": 49,
   "id": "990f8bf7",
   "metadata": {},
   "outputs": [
    {
     "data": {
      "text/html": [
       "<div>\n",
       "<style scoped>\n",
       "    .dataframe tbody tr th:only-of-type {\n",
       "        vertical-align: middle;\n",
       "    }\n",
       "\n",
       "    .dataframe tbody tr th {\n",
       "        vertical-align: top;\n",
       "    }\n",
       "\n",
       "    .dataframe thead th {\n",
       "        text-align: right;\n",
       "    }\n",
       "</style>\n",
       "<table border=\"1\" class=\"dataframe\">\n",
       "  <thead>\n",
       "    <tr style=\"text-align: right;\">\n",
       "      <th></th>\n",
       "      <th>Nama</th>\n",
       "      <th>Kode</th>\n",
       "      <th>Jumlah</th>\n",
       "      <th>Pinjam</th>\n",
       "    </tr>\n",
       "  </thead>\n",
       "  <tbody>\n",
       "    <tr>\n",
       "      <th>0</th>\n",
       "      <td>Fisika</td>\n",
       "      <td>PS_001</td>\n",
       "      <td>10</td>\n",
       "      <td>3</td>\n",
       "    </tr>\n",
       "    <tr>\n",
       "      <th>1</th>\n",
       "      <td>Kimia</td>\n",
       "      <td>PS_002</td>\n",
       "      <td>10</td>\n",
       "      <td>3</td>\n",
       "    </tr>\n",
       "    <tr>\n",
       "      <th>2</th>\n",
       "      <td>Biologi</td>\n",
       "      <td>PS_003</td>\n",
       "      <td>10</td>\n",
       "      <td>1</td>\n",
       "    </tr>\n",
       "    <tr>\n",
       "      <th>3</th>\n",
       "      <td>Seni</td>\n",
       "      <td>PS_004</td>\n",
       "      <td>22</td>\n",
       "      <td>4</td>\n",
       "    </tr>\n",
       "    <tr>\n",
       "      <th>4</th>\n",
       "      <td>Sastra</td>\n",
       "      <td>PS_005</td>\n",
       "      <td>5</td>\n",
       "      <td>5</td>\n",
       "    </tr>\n",
       "    <tr>\n",
       "      <th>5</th>\n",
       "      <td>Astronomi</td>\n",
       "      <td>PS_006</td>\n",
       "      <td>15</td>\n",
       "      <td>2</td>\n",
       "    </tr>\n",
       "  </tbody>\n",
       "</table>\n",
       "</div>"
      ],
      "text/plain": [
       "        Nama    Kode Jumlah  Pinjam\n",
       "0     Fisika  PS_001     10       3\n",
       "1      Kimia  PS_002     10       3\n",
       "2    Biologi  PS_003     10       1\n",
       "3       Seni  PS_004     22       4\n",
       "4     Sastra  PS_005      5       5\n",
       "5  Astronomi  PS_006     15       2"
      ]
     },
     "execution_count": 49,
     "metadata": {},
     "output_type": "execute_result"
    }
   ],
   "source": [
    "df"
   ]
  },
  {
   "cell_type": "code",
   "execution_count": 50,
   "id": "bbf25b2a",
   "metadata": {},
   "outputs": [],
   "source": [
    "def peminjaman_df(durasi=durasi):\n",
    "    print(\"Form Peminjaman\")\n",
    "    varNama=str(input(\"Nama Peminjam =\"))\n",
    "    varBuku=str(input(\"Kode Buku= \"))\n",
    "    for i in range(len(df)):\n",
    "        if (varBuku==df['Kode'].iloc[i] and df['Jumlah'][i]>1):\n",
    "            print(\"Bisa pinjam {}\".format(varNama))\n",
    "            print(\"Durasi waktu pinjam {} hari\".format(durasi))\n",
    "            df.at[i,'Jumlah']-=1\n",
    "            df.at[i,'Pinjam']+=1\n",
    "            return df\n",
    "            break\n",
    "        elif i==len(df)-1:\n",
    "            print(\"Tidak bisa dipinjam\")\n",
    "            return df"
   ]
  },
  {
   "cell_type": "code",
   "execution_count": 51,
   "id": "1dd004f1",
   "metadata": {},
   "outputs": [
    {
     "name": "stdout",
     "output_type": "stream",
     "text": [
      "Form Peminjaman\n",
      "Nama Peminjam =ok\n",
      "Kode Buku= ok\n",
      "Tidak bisa dipinjam\n"
     ]
    }
   ],
   "source": [
    "df=peminjaman_df()"
   ]
  },
  {
   "cell_type": "code",
   "execution_count": 52,
   "id": "7d28d6f4",
   "metadata": {},
   "outputs": [
    {
     "data": {
      "text/html": [
       "<div>\n",
       "<style scoped>\n",
       "    .dataframe tbody tr th:only-of-type {\n",
       "        vertical-align: middle;\n",
       "    }\n",
       "\n",
       "    .dataframe tbody tr th {\n",
       "        vertical-align: top;\n",
       "    }\n",
       "\n",
       "    .dataframe thead th {\n",
       "        text-align: right;\n",
       "    }\n",
       "</style>\n",
       "<table border=\"1\" class=\"dataframe\">\n",
       "  <thead>\n",
       "    <tr style=\"text-align: right;\">\n",
       "      <th></th>\n",
       "      <th>Nama</th>\n",
       "      <th>Kode</th>\n",
       "      <th>Jumlah</th>\n",
       "      <th>Pinjam</th>\n",
       "    </tr>\n",
       "  </thead>\n",
       "  <tbody>\n",
       "    <tr>\n",
       "      <th>0</th>\n",
       "      <td>Fisika</td>\n",
       "      <td>PS_001</td>\n",
       "      <td>10</td>\n",
       "      <td>3</td>\n",
       "    </tr>\n",
       "    <tr>\n",
       "      <th>1</th>\n",
       "      <td>Kimia</td>\n",
       "      <td>PS_002</td>\n",
       "      <td>10</td>\n",
       "      <td>3</td>\n",
       "    </tr>\n",
       "    <tr>\n",
       "      <th>2</th>\n",
       "      <td>Biologi</td>\n",
       "      <td>PS_003</td>\n",
       "      <td>10</td>\n",
       "      <td>1</td>\n",
       "    </tr>\n",
       "    <tr>\n",
       "      <th>3</th>\n",
       "      <td>Seni</td>\n",
       "      <td>PS_004</td>\n",
       "      <td>22</td>\n",
       "      <td>4</td>\n",
       "    </tr>\n",
       "    <tr>\n",
       "      <th>4</th>\n",
       "      <td>Sastra</td>\n",
       "      <td>PS_005</td>\n",
       "      <td>5</td>\n",
       "      <td>5</td>\n",
       "    </tr>\n",
       "    <tr>\n",
       "      <th>5</th>\n",
       "      <td>Astronomi</td>\n",
       "      <td>PS_006</td>\n",
       "      <td>15</td>\n",
       "      <td>2</td>\n",
       "    </tr>\n",
       "  </tbody>\n",
       "</table>\n",
       "</div>"
      ],
      "text/plain": [
       "        Nama    Kode Jumlah  Pinjam\n",
       "0     Fisika  PS_001     10       3\n",
       "1      Kimia  PS_002     10       3\n",
       "2    Biologi  PS_003     10       1\n",
       "3       Seni  PS_004     22       4\n",
       "4     Sastra  PS_005      5       5\n",
       "5  Astronomi  PS_006     15       2"
      ]
     },
     "execution_count": 52,
     "metadata": {},
     "output_type": "execute_result"
    }
   ],
   "source": [
    "df"
   ]
  },
  {
   "cell_type": "code",
   "execution_count": 53,
   "id": "b0e8bf4e",
   "metadata": {},
   "outputs": [],
   "source": [
    "def pengembalian_df(durasi=durasi):\n",
    "    print(\"Form Pengembalian\")\n",
    "    varNama=str(input(\"Nama Peminjam\\t=\"))\n",
    "    varBuku=str(input(\"Kode Buku\\t=\"))\n",
    "    varHari=int(input(\"Jumlah Hari\\t=\"))\n",
    "    for i in range(len(df)):\n",
    "        if varBuku==df['Kode'].iloc[i]:\n",
    "            if varHari>=durasi:\n",
    "                denda=(varHari-durasi)*1000\n",
    "                print(\"Terima kasih, {}\\nDenda sebesar Rp.{}\".format(varNama,denda))\n",
    "                df.at[i,'Jumlah']+=1\n",
    "                df.at[i,'Pinjam']-=1\n",
    "                return df\n",
    "                break\n",
    "            else:\n",
    "                print(\"Terima kasih,{}\".format(varNama))\n",
    "                varBar=df['Jumlah'].iloc[i]\n",
    "                df.at[i,'Jumlah']+=1\n",
    "                df.at[i,'Pinjam']-=1\n",
    "                return df\n",
    "                break\n",
    "        elif i==len(df)-1:\n",
    "            print(\"Salah kode\")\n",
    "            return df"
   ]
  },
  {
   "cell_type": "code",
   "execution_count": 54,
   "id": "3fb1c8e7",
   "metadata": {},
   "outputs": [
    {
     "name": "stdout",
     "output_type": "stream",
     "text": [
      "Form Pengembalian\n",
      "Nama Peminjam\t=ok\n",
      "Kode Buku\t=ok\n",
      "Jumlah Hari\t=3\n",
      "Salah kode\n"
     ]
    }
   ],
   "source": [
    "df=pengembalian_df()"
   ]
  },
  {
   "cell_type": "code",
   "execution_count": 55,
   "id": "f5da740b",
   "metadata": {},
   "outputs": [
    {
     "data": {
      "text/html": [
       "<div>\n",
       "<style scoped>\n",
       "    .dataframe tbody tr th:only-of-type {\n",
       "        vertical-align: middle;\n",
       "    }\n",
       "\n",
       "    .dataframe tbody tr th {\n",
       "        vertical-align: top;\n",
       "    }\n",
       "\n",
       "    .dataframe thead th {\n",
       "        text-align: right;\n",
       "    }\n",
       "</style>\n",
       "<table border=\"1\" class=\"dataframe\">\n",
       "  <thead>\n",
       "    <tr style=\"text-align: right;\">\n",
       "      <th></th>\n",
       "      <th>Nama</th>\n",
       "      <th>Kode</th>\n",
       "      <th>Jumlah</th>\n",
       "      <th>Pinjam</th>\n",
       "    </tr>\n",
       "  </thead>\n",
       "  <tbody>\n",
       "    <tr>\n",
       "      <th>0</th>\n",
       "      <td>Fisika</td>\n",
       "      <td>PS_001</td>\n",
       "      <td>10</td>\n",
       "      <td>3</td>\n",
       "    </tr>\n",
       "    <tr>\n",
       "      <th>1</th>\n",
       "      <td>Kimia</td>\n",
       "      <td>PS_002</td>\n",
       "      <td>10</td>\n",
       "      <td>3</td>\n",
       "    </tr>\n",
       "    <tr>\n",
       "      <th>2</th>\n",
       "      <td>Biologi</td>\n",
       "      <td>PS_003</td>\n",
       "      <td>10</td>\n",
       "      <td>1</td>\n",
       "    </tr>\n",
       "    <tr>\n",
       "      <th>3</th>\n",
       "      <td>Seni</td>\n",
       "      <td>PS_004</td>\n",
       "      <td>22</td>\n",
       "      <td>4</td>\n",
       "    </tr>\n",
       "    <tr>\n",
       "      <th>4</th>\n",
       "      <td>Sastra</td>\n",
       "      <td>PS_005</td>\n",
       "      <td>5</td>\n",
       "      <td>5</td>\n",
       "    </tr>\n",
       "    <tr>\n",
       "      <th>5</th>\n",
       "      <td>Astronomi</td>\n",
       "      <td>PS_006</td>\n",
       "      <td>15</td>\n",
       "      <td>2</td>\n",
       "    </tr>\n",
       "  </tbody>\n",
       "</table>\n",
       "</div>"
      ],
      "text/plain": [
       "        Nama    Kode Jumlah  Pinjam\n",
       "0     Fisika  PS_001     10       3\n",
       "1      Kimia  PS_002     10       3\n",
       "2    Biologi  PS_003     10       1\n",
       "3       Seni  PS_004     22       4\n",
       "4     Sastra  PS_005      5       5\n",
       "5  Astronomi  PS_006     15       2"
      ]
     },
     "execution_count": 55,
     "metadata": {},
     "output_type": "execute_result"
    }
   ],
   "source": [
    "df"
   ]
  },
  {
   "cell_type": "code",
   "execution_count": 56,
   "id": "907bc9bf",
   "metadata": {},
   "outputs": [
    {
     "data": {
      "text/plain": [
       "6"
      ]
     },
     "execution_count": 56,
     "metadata": {},
     "output_type": "execute_result"
    }
   ],
   "source": [
    "len(df)"
   ]
  },
  {
   "cell_type": "code",
   "execution_count": 58,
   "id": "c724622a",
   "metadata": {},
   "outputs": [
    {
     "data": {
      "text/plain": [
       "'pjgLabel=np.arange(len(df))\\nlbr=0.5\\nvarLabel=df[\\'Nama\\'].values\\nvarJumlah=df[\\'Jumlah\\'].values\\nvarPinjam=df[\\'Pinjam\\'].values\\nplt.title(\"Ketersediaan Buku\")\\nplt.bar(pjgLabel,varJumlah, color=\\'gold\\',width=lbr, label=\"Jumlah\")\\nplt.bar(pjgLabel+lbr,varPinjam, color=\\'red\\',width=lbr, label=\"Pinjam\")\\nplt.legend(loc=\\'best\\')\\nplt.show()'"
      ]
     },
     "execution_count": 58,
     "metadata": {},
     "output_type": "execute_result"
    }
   ],
   "source": [
    "'''pjgLabel=np.arange(len(df))\n",
    "lbr=0.5\n",
    "varLabel=df['Nama'].values\n",
    "varJumlah=df['Jumlah'].values\n",
    "varPinjam=df['Pinjam'].values\n",
    "plt.title(\"Ketersediaan Buku\")\n",
    "plt.bar(pjgLabel,varJumlah, color='gold',width=lbr, label=\"Jumlah\")\n",
    "plt.bar(pjgLabel+lbr,varPinjam, color='red',width=lbr, label=\"Pinjam\")\n",
    "plt.legend(loc='best')\n",
    "plt.show()'''"
   ]
  },
  {
   "cell_type": "code",
   "execution_count": 59,
   "id": "6c34ccec",
   "metadata": {},
   "outputs": [
    {
     "data": {
      "image/png": "[encoded data removed]",
      "text/plain": [
       "<Figure size 432x288 with 1 Axes>"
      ]
     },
     "metadata": {},
     "output_type": "display_data"
    }
   ],
   "source": [
    "plt.title(\"Persentase Ketersediaan Buku\")\n",
    "plt.pie(varJumlah,labels=varLabel, autopct='%1.2f%%',\n",
    "shadow=True)\n",
    "plt.show()"
   ]
  },
  {
   "cell_type": "code",
   "execution_count": 60,
   "id": "6714c623",
   "metadata": {},
   "outputs": [
    {
     "data": {
      "image/png": "[encoded data removed]",
      "text/plain": [
       "<Figure size 432x288 with 1 Axes>"
      ]
     },
     "metadata": {},
     "output_type": "display_data"
    }
   ],
   "source": [
    "plt.title(\"Persentase Peminjaman Buku\")\n",
    "plt.pie(varJumlah,labels=varLabel, autopct='%1.2f%%')\n",
    "plt.show()"
   ]
  },
  {
   "cell_type": "code",
   "execution_count": 61,
   "id": "e49e97b9",
   "metadata": {},
   "outputs": [
    {
     "data": {
      "text/html": [
       "<div>\n",
       "<style scoped>\n",
       "    .dataframe tbody tr th:only-of-type {\n",
       "        vertical-align: middle;\n",
       "    }\n",
       "\n",
       "    .dataframe tbody tr th {\n",
       "        vertical-align: top;\n",
       "    }\n",
       "\n",
       "    .dataframe thead th {\n",
       "        text-align: right;\n",
       "    }\n",
       "</style>\n",
       "<table border=\"1\" class=\"dataframe\">\n",
       "  <thead>\n",
       "    <tr style=\"text-align: right;\">\n",
       "      <th></th>\n",
       "      <th>Nama</th>\n",
       "      <th>Kode</th>\n",
       "      <th>Jumlah</th>\n",
       "      <th>Pinjam</th>\n",
       "    </tr>\n",
       "  </thead>\n",
       "  <tbody>\n",
       "    <tr>\n",
       "      <th>0</th>\n",
       "      <td>Fisika</td>\n",
       "      <td>PS_001</td>\n",
       "      <td>10</td>\n",
       "      <td>3</td>\n",
       "    </tr>\n",
       "    <tr>\n",
       "      <th>1</th>\n",
       "      <td>Kimia</td>\n",
       "      <td>PS_002</td>\n",
       "      <td>10</td>\n",
       "      <td>3</td>\n",
       "    </tr>\n",
       "    <tr>\n",
       "      <th>2</th>\n",
       "      <td>Biologi</td>\n",
       "      <td>PS_003</td>\n",
       "      <td>10</td>\n",
       "      <td>1</td>\n",
       "    </tr>\n",
       "    <tr>\n",
       "      <th>3</th>\n",
       "      <td>Seni</td>\n",
       "      <td>PS_004</td>\n",
       "      <td>22</td>\n",
       "      <td>4</td>\n",
       "    </tr>\n",
       "    <tr>\n",
       "      <th>4</th>\n",
       "      <td>Sastra</td>\n",
       "      <td>PS_005</td>\n",
       "      <td>5</td>\n",
       "      <td>5</td>\n",
       "    </tr>\n",
       "    <tr>\n",
       "      <th>5</th>\n",
       "      <td>Astronomi</td>\n",
       "      <td>PS_006</td>\n",
       "      <td>15</td>\n",
       "      <td>2</td>\n",
       "    </tr>\n",
       "  </tbody>\n",
       "</table>\n",
       "</div>"
      ],
      "text/plain": [
       "        Nama    Kode Jumlah  Pinjam\n",
       "0     Fisika  PS_001     10       3\n",
       "1      Kimia  PS_002     10       3\n",
       "2    Biologi  PS_003     10       1\n",
       "3       Seni  PS_004     22       4\n",
       "4     Sastra  PS_005      5       5\n",
       "5  Astronomi  PS_006     15       2"
      ]
     },
     "execution_count": 61,
     "metadata": {},
     "output_type": "execute_result"
    }
   ],
   "source": [
    "df"
   ]
  },
  {
   "cell_type": "code",
   "execution_count": null,
   "id": "da50bae8",
   "metadata": {},
   "outputs": [],
   "source": []
  }
 ],
 "metadata": {
  "kernelspec": {
   "display_name": "Python 3 (ipykernel)",
   "language": "python",
   "name": "python3"
  },
  "language_info": {
   "codemirror_mode": {
    "name": "ipython",
    "version": 3
   },
   "file_extension": ".py",
   "mimetype": "text/x-python",
   "name": "python",
   "nbconvert_exporter": "python",
   "pygments_lexer": "ipython3",
   "version": "3.10.0"
  }
 },
 "nbformat": 4,
 "nbformat_minor": 5
}
